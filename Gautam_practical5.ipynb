{
  "cells": [
    {
      "cell_type": "code",
      "execution_count": null,
      "metadata": {
        "id": "174KyO7Sncfg"
      },
      "outputs": [],
      "source": [
        "# Importing required libraries\n",
        "import pandas as pd\n",
        "import numpy as np\n",
        "import matplotlib.pyplot as plt"
      ]
    },
    {
      "cell_type": "code",
      "execution_count": null,
      "metadata": {
        "id": "kFSAwnXXnjah"
      },
      "outputs": [],
      "source": [
        "# Input data\n",
        "data = {\n",
        "    'ID': [1, 2, 3, 4, 5, 6],\n",
        "    'Name': ['Amit', 'Sneha', 'Rohan', 'Priya', 'Kunal', 'Neha'],\n",
        "    'Age': [25, 30, 35, 40, 22, 29],\n",
        "    'Country': ['India', 'UK', 'USA', 'Australia', 'Canada', 'Russia'],\n",
        "    'Sales': [200, 450, 300, 800, 150, 400]    }"
      ]
    },
    {
      "cell_type": "code",
      "execution_count": null,
      "metadata": {
        "colab": {
          "base_uri": "https://localhost:8080/"
        },
        "id": "tK4l9UbYntEg",
        "outputId": "aaf999c4-730f-4239-d45d-f46fab2fcc0f"
      },
      "outputs": [
        {
          "name": "stdout",
          "output_type": "stream",
          "text": [
            "Original Dataset:\n",
            "   ID   Name  Age    Country  Sales\n",
            "0   1   Amit   25      India    200\n",
            "1   2  Sneha   30         UK    450\n",
            "2   3  Rohan   35        USA    300\n",
            "3   4  Priya   40  Australia    800\n",
            "4   5  Kunal   22     Canada    150\n",
            "5   6   Neha   29     Russia    400\n"
          ]
        }
      ],
      "source": [
        "# Create dataframe\n",
        "df = pd.DataFrame(data)\n",
        "print(\"Original Dataset:\")\n",
        "print(df)"
      ]
    },
    {
      "cell_type": "code",
      "execution_count": null,
      "metadata": {
        "colab": {
          "base_uri": "https://localhost:8080/"
        },
        "id": "3xRV0lXqnSjF",
        "outputId": "042697c4-110f-467c-8a45-53cc473e2dc8"
      },
      "outputs": [
        {
          "name": "stdout",
          "output_type": "stream",
          "text": [
            "\n",
            "Character Map (Uppercase Names):\n",
            "   ID   Name Name_Upper\n",
            "0   1   Amit       AMIT\n",
            "1   2  Sneha      SNEHA\n",
            "2   3  Rohan      ROHAN\n",
            "3   4  Priya      PRIYA\n",
            "4   5  Kunal      KUNAL\n",
            "5   6   Neha       NEHA\n"
          ]
        }
      ],
      "source": [
        "#Data Transforamtions\n",
        "\n",
        "#character map\n",
        "#description: Transform text data by changing the case of characters.\n",
        "#Here, we will convert the Name column to uppercase\n",
        "df['Name_Upper']=df['Name'].str.upper()\n",
        "print(\"\\nCharacter Map (Uppercase Names):\")\n",
        "print(df[['ID','Name','Name_Upper']])"
      ]
    },
    {
      "cell_type": "code",
      "execution_count": null,
      "metadata": {
        "id": "HZlJRxDgnbzy"
      },
      "outputs": [],
      "source": [
        "#multicast: create two copies of the dataset\n",
        "df_copy1 = df.copy()\n",
        "df_copy2 = df.copy()\n",
        "\n",
        "#transformations on each copy\n",
        "df_copy1['Sales'] *= 1.1 #increase sales by 10%\n",
        "df_copy2['Age'] += 5"
      ]
    },
    {
      "cell_type": "code",
      "execution_count": null,
      "metadata": {
        "colab": {
          "base_uri": "https://localhost:8080/"
        },
        "id": "CPX1bn64o06w",
        "outputId": "29eca71f-136b-41d4-f573-a035ed40ffe7"
      },
      "outputs": [
        {
          "name": "stdout",
          "output_type": "stream",
          "text": [
            "\n",
            "Multicast (Modified copies):\n",
            "Copy 1 (Sales Increased):\n",
            "   ID   Name  Age    Country  Sales Name_Upper\n",
            "0   1   Amit   25      India  220.0       AMIT\n",
            "1   2  Sneha   30         UK  495.0      SNEHA\n",
            "2   3  Rohan   35        USA  330.0      ROHAN\n",
            "3   4  Priya   40  Australia  880.0      PRIYA\n",
            "4   5  Kunal   22     Canada  165.0      KUNAL\n",
            "5   6   Neha   29     Russia  440.0       NEHA\n",
            "\n",
            "Copy 2 (Age Increased):\n",
            "   ID   Name  Age    Country  Sales Name_Upper\n",
            "0   1   Amit   30      India    200       AMIT\n",
            "1   2  Sneha   35         UK    450      SNEHA\n",
            "2   3  Rohan   40        USA    300      ROHAN\n",
            "3   4  Priya   45  Australia    800      PRIYA\n",
            "4   5  Kunal   27     Canada    150      KUNAL\n",
            "5   6   Neha   34     Russia    400       NEHA\n"
          ]
        }
      ],
      "source": [
        "print(\"\\nMulticast (Modified copies):\")\n",
        "print(\"Copy 1 (Sales Increased):\")\n",
        "print(df_copy1)\n",
        "print(\"\\nCopy 2 (Age Increased):\")\n",
        "print(df_copy2)"
      ]
    },
    {
      "cell_type": "code",
      "execution_count": null,
      "metadata": {
        "colab": {
          "base_uri": "https://localhost:8080/"
        },
        "id": "JKCb6L6YpBRP",
        "outputId": "16f38694-40b5-412d-d5ac-8cc4fdd214a1"
      },
      "outputs": [
        {
          "name": "stdout",
          "output_type": "stream",
          "text": [
            "\n",
            "High sales :\n",
            "   ID   Name  Age    Country  Sales Name_Upper\n",
            "1   2  Sneha   30         UK    450      SNEHA\n",
            "3   4  Priya   40  Australia    800      PRIYA\n",
            "5   6   Neha   29     Russia    400       NEHA\n",
            "\n",
            "Low sales :\n",
            "   ID   Name  Age Country  Sales Name_Upper\n",
            "0   1   Amit   25   India    200       AMIT\n",
            "2   3  Rohan   35     USA    300      ROHAN\n",
            "4   5  Kunal   22  Canada    150      KUNAL\n"
          ]
        }
      ],
      "source": [
        " #3. Conditional split\n",
        " #description: split data based on a condition.\n",
        " #Here, we will separate rows with Sales > 300.\n",
        " #Conditional split: Sales > 300\n",
        " high_sales = df[df['Sales'] > 300]\n",
        " low_sales = df[df['Sales'] <= 300]\n",
        "\n",
        " print(\"\\nHigh sales :\")\n",
        " print(high_sales)\n",
        " print(\"\\nLow sales :\")\n",
        " print(low_sales)"
      ]
    },
    {
      "cell_type": "code",
      "execution_count": null,
      "metadata": {
        "colab": {
          "base_uri": "https://localhost:8080/"
        },
        "id": "hFNX3VLipLgY",
        "outputId": "135f9b5d-57e0-47b0-82fb-12e766507dab"
      },
      "outputs": [
        {
          "name": "stdout",
          "output_type": "stream",
          "text": [
            "\n",
            "Aggregation (Total Sales by Country):\n",
            "     Country  Sales\n",
            "0  Australia    800\n",
            "1     Canada    150\n",
            "2      India    200\n",
            "3     Russia    400\n",
            "4         UK    450\n",
            "5        USA    300\n"
          ]
        }
      ],
      "source": [
        "#4.Aggreagation\n",
        "#Description: Aggreagate data, e.g.,calculate Total Sales by Country\n",
        "agg_df = df.groupby('Country')['Sales'].sum().reset_index()\n",
        "print(\"\\nAggregation (Total Sales by Country):\")\n",
        "print(agg_df)"
      ]
    },
    {
      "cell_type": "code",
      "execution_count": null,
      "metadata": {
        "colab": {
          "base_uri": "https://localhost:8080/"
        },
        "id": "T1vbHouopT7O",
        "outputId": "e68ab824-5f48-4c0b-e497-7440bf5d8604"
      },
      "outputs": [
        {
          "name": "stdout",
          "output_type": "stream",
          "text": [
            "\n",
            "Sort (Descending Sales):\n",
            "   ID   Name  Age    Country  Sales Name_Upper\n",
            "3   4  Priya   40  Australia    800      PRIYA\n",
            "1   2  Sneha   30         UK    450      SNEHA\n",
            "5   6   Neha   29     Russia    400       NEHA\n",
            "2   3  Rohan   35        USA    300      ROHAN\n",
            "0   1   Amit   25      India    200       AMIT\n",
            "4   5  Kunal   22     Canada    150      KUNAL\n"
          ]
        }
      ],
      "source": [
        " #5.Sort\n",
        " #Description: Sort the dataset by Sales in descending order.\n",
        " sorted_df = df.sort_values(by='Sales', ascending=False)\n",
        " print(\"\\nSort (Descending Sales):\")\n",
        " print(sorted_df)"
      ]
    },
    {
      "cell_type": "code",
      "execution_count": null,
      "metadata": {
        "colab": {
          "base_uri": "https://localhost:8080/"
        },
        "id": "ZIk4r0ONpYS2",
        "outputId": "9221d3b1-a0de-48d5-c325-cb57cc2cc15b"
      },
      "outputs": [
        {
          "name": "stdout",
          "output_type": "stream",
          "text": [
            "\n",
            "Derived Column (Sales Category):\n",
            "   ID   Name  Sales Sales_Category\n",
            "0   1   Amit    200            Low\n",
            "1   2  Sneha    450           High\n",
            "2   3  Rohan    300            Low\n",
            "3   4  Priya    800           High\n",
            "4   5  Kunal    150            Low\n",
            "5   6   Neha    400           High\n"
          ]
        }
      ],
      "source": [
        " #6.Derived Column: Categorize sales as 'High' or 'Low'.\n",
        " #create a new column by deriving information from existing data.\n",
        " #Derived Column: Categorize sales as 'High' or 'Low'.\n",
        " df['Sales_Category'] = df['Sales'].apply(lambda x: 'High' if x > 300 else'Low')\n",
        " print(\"\\nDerived Column (Sales Category):\")\n",
        " print(df[['ID','Name','Sales','Sales_Category']])"
      ]
    }
  ],
  "metadata": {
    "colab": {
      "provenance": []
    },
    "kernelspec": {
      "display_name": "Python 3",
      "name": "python3"
    },
    "language_info": {
      "name": "python"
    }
  },
  "nbformat": 4,
  "nbformat_minor": 0
}
